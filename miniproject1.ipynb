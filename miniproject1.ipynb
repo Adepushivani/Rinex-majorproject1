{
  "nbformat": 4,
  "nbformat_minor": 0,
  "metadata": {
    "colab": {
      "name": "miniproject1.ipynb",
      "provenance": [],
      "collapsed_sections": []
    },
    "kernelspec": {
      "name": "python3",
      "display_name": "Python 3"
    },
    "language_info": {
      "name": "python"
    }
  },
  "cells": [
    {
      "cell_type": "code",
      "execution_count": 1,
      "metadata": {
        "id": "EYgw7tVdMvQs"
      },
      "outputs": [],
      "source": [
        "# MINIPROJECT1\n",
        "# MACHINE LEARNING FROM DATASETS - USA CARS DATASETS - EDA"
      ]
    },
    {
      "cell_type": "code",
      "source": [
        "#Exploratary data analysis(EDA)"
      ],
      "metadata": {
        "id": "8Yz-LS2ZM5at"
      },
      "execution_count": 2,
      "outputs": []
    },
    {
      "cell_type": "code",
      "source": [
        "#1 create dataframe\n",
        "import pandas as pd\n",
        "df=pd.read_csv('/content/USA_cars_datasets.csv')\n",
        "df"
      ],
      "metadata": {
        "colab": {
          "base_uri": "https://localhost:8080/",
          "height": 609
        },
        "id": "RwiHTaMNM_aw",
        "outputId": "91352a1e-d10c-449e-ba70-558e586d9fc0"
      },
      "execution_count": 4,
      "outputs": [
        {
          "output_type": "execute_result",
          "data": {
            "text/plain": [
              "      Unnamed: 0  price      brand    model  year   title_status   mileage  \\\n",
              "0              0   6300     toyota  cruiser  2008  clean vehicle  274117.0   \n",
              "1              1   2899       ford       se  2011  clean vehicle  190552.0   \n",
              "2              2   5350      dodge      mpv  2018  clean vehicle   39590.0   \n",
              "3              3  25000       ford     door  2014  clean vehicle   64146.0   \n",
              "4              4  27700  chevrolet     1500  2018  clean vehicle    6654.0   \n",
              "...          ...    ...        ...      ...   ...            ...       ...   \n",
              "2494        2494   7800     nissan    versa  2019  clean vehicle   23609.0   \n",
              "2495        2495   9200     nissan    versa  2018  clean vehicle   34553.0   \n",
              "2496        2496   9200     nissan    versa  2018  clean vehicle   31594.0   \n",
              "2497        2497   9200     nissan    versa  2018  clean vehicle   32557.0   \n",
              "2498        2498   9200     nissan    versa  2018  clean vehicle   31371.0   \n",
              "\n",
              "       color                  vin        lot       state country  \\\n",
              "0      black    jtezu11f88k007763  159348797  new jersey     usa   \n",
              "1     silver    2fmdk3gc4bbb02217  166951262   tennessee     usa   \n",
              "2     silver    3c4pdcgg5jt346413  167655728     georgia     usa   \n",
              "3       blue    1ftfw1et4efc23745  167753855    virginia     usa   \n",
              "4        red    3gcpcrec2jg473991  167763266     florida     usa   \n",
              "...      ...                  ...        ...         ...     ...   \n",
              "2494     red    3n1cn7ap9kl880319  167722715  california     usa   \n",
              "2495  silver    3n1cn7ap5jl884088  167762225     florida     usa   \n",
              "2496  silver    3n1cn7ap9jl884191  167762226     florida     usa   \n",
              "2497   black    3n1cn7ap3jl883263  167762227     florida     usa   \n",
              "2498  silver    3n1cn7ap4jl884311  167762228     florida     usa   \n",
              "\n",
              "          condition  \n",
              "0      10 days left  \n",
              "1       6 days left  \n",
              "2       2 days left  \n",
              "3     22 hours left  \n",
              "4     22 hours left  \n",
              "...             ...  \n",
              "2494    1 days left  \n",
              "2495  21 hours left  \n",
              "2496  21 hours left  \n",
              "2497    2 days left  \n",
              "2498  21 hours left  \n",
              "\n",
              "[2499 rows x 13 columns]"
            ],
            "text/html": [
              "\n",
              "  <div id=\"df-2cda61bb-50f5-4051-b139-bea1c16bbd2b\">\n",
              "    <div class=\"colab-df-container\">\n",
              "      <div>\n",
              "<style scoped>\n",
              "    .dataframe tbody tr th:only-of-type {\n",
              "        vertical-align: middle;\n",
              "    }\n",
              "\n",
              "    .dataframe tbody tr th {\n",
              "        vertical-align: top;\n",
              "    }\n",
              "\n",
              "    .dataframe thead th {\n",
              "        text-align: right;\n",
              "    }\n",
              "</style>\n",
              "<table border=\"1\" class=\"dataframe\">\n",
              "  <thead>\n",
              "    <tr style=\"text-align: right;\">\n",
              "      <th></th>\n",
              "      <th>Unnamed: 0</th>\n",
              "      <th>price</th>\n",
              "      <th>brand</th>\n",
              "      <th>model</th>\n",
              "      <th>year</th>\n",
              "      <th>title_status</th>\n",
              "      <th>mileage</th>\n",
              "      <th>color</th>\n",
              "      <th>vin</th>\n",
              "      <th>lot</th>\n",
              "      <th>state</th>\n",
              "      <th>country</th>\n",
              "      <th>condition</th>\n",
              "    </tr>\n",
              "  </thead>\n",
              "  <tbody>\n",
              "    <tr>\n",
              "      <th>0</th>\n",
              "      <td>0</td>\n",
              "      <td>6300</td>\n",
              "      <td>toyota</td>\n",
              "      <td>cruiser</td>\n",
              "      <td>2008</td>\n",
              "      <td>clean vehicle</td>\n",
              "      <td>274117.0</td>\n",
              "      <td>black</td>\n",
              "      <td>jtezu11f88k007763</td>\n",
              "      <td>159348797</td>\n",
              "      <td>new jersey</td>\n",
              "      <td>usa</td>\n",
              "      <td>10 days left</td>\n",
              "    </tr>\n",
              "    <tr>\n",
              "      <th>1</th>\n",
              "      <td>1</td>\n",
              "      <td>2899</td>\n",
              "      <td>ford</td>\n",
              "      <td>se</td>\n",
              "      <td>2011</td>\n",
              "      <td>clean vehicle</td>\n",
              "      <td>190552.0</td>\n",
              "      <td>silver</td>\n",
              "      <td>2fmdk3gc4bbb02217</td>\n",
              "      <td>166951262</td>\n",
              "      <td>tennessee</td>\n",
              "      <td>usa</td>\n",
              "      <td>6 days left</td>\n",
              "    </tr>\n",
              "    <tr>\n",
              "      <th>2</th>\n",
              "      <td>2</td>\n",
              "      <td>5350</td>\n",
              "      <td>dodge</td>\n",
              "      <td>mpv</td>\n",
              "      <td>2018</td>\n",
              "      <td>clean vehicle</td>\n",
              "      <td>39590.0</td>\n",
              "      <td>silver</td>\n",
              "      <td>3c4pdcgg5jt346413</td>\n",
              "      <td>167655728</td>\n",
              "      <td>georgia</td>\n",
              "      <td>usa</td>\n",
              "      <td>2 days left</td>\n",
              "    </tr>\n",
              "    <tr>\n",
              "      <th>3</th>\n",
              "      <td>3</td>\n",
              "      <td>25000</td>\n",
              "      <td>ford</td>\n",
              "      <td>door</td>\n",
              "      <td>2014</td>\n",
              "      <td>clean vehicle</td>\n",
              "      <td>64146.0</td>\n",
              "      <td>blue</td>\n",
              "      <td>1ftfw1et4efc23745</td>\n",
              "      <td>167753855</td>\n",
              "      <td>virginia</td>\n",
              "      <td>usa</td>\n",
              "      <td>22 hours left</td>\n",
              "    </tr>\n",
              "    <tr>\n",
              "      <th>4</th>\n",
              "      <td>4</td>\n",
              "      <td>27700</td>\n",
              "      <td>chevrolet</td>\n",
              "      <td>1500</td>\n",
              "      <td>2018</td>\n",
              "      <td>clean vehicle</td>\n",
              "      <td>6654.0</td>\n",
              "      <td>red</td>\n",
              "      <td>3gcpcrec2jg473991</td>\n",
              "      <td>167763266</td>\n",
              "      <td>florida</td>\n",
              "      <td>usa</td>\n",
              "      <td>22 hours left</td>\n",
              "    </tr>\n",
              "    <tr>\n",
              "      <th>...</th>\n",
              "      <td>...</td>\n",
              "      <td>...</td>\n",
              "      <td>...</td>\n",
              "      <td>...</td>\n",
              "      <td>...</td>\n",
              "      <td>...</td>\n",
              "      <td>...</td>\n",
              "      <td>...</td>\n",
              "      <td>...</td>\n",
              "      <td>...</td>\n",
              "      <td>...</td>\n",
              "      <td>...</td>\n",
              "      <td>...</td>\n",
              "    </tr>\n",
              "    <tr>\n",
              "      <th>2494</th>\n",
              "      <td>2494</td>\n",
              "      <td>7800</td>\n",
              "      <td>nissan</td>\n",
              "      <td>versa</td>\n",
              "      <td>2019</td>\n",
              "      <td>clean vehicle</td>\n",
              "      <td>23609.0</td>\n",
              "      <td>red</td>\n",
              "      <td>3n1cn7ap9kl880319</td>\n",
              "      <td>167722715</td>\n",
              "      <td>california</td>\n",
              "      <td>usa</td>\n",
              "      <td>1 days left</td>\n",
              "    </tr>\n",
              "    <tr>\n",
              "      <th>2495</th>\n",
              "      <td>2495</td>\n",
              "      <td>9200</td>\n",
              "      <td>nissan</td>\n",
              "      <td>versa</td>\n",
              "      <td>2018</td>\n",
              "      <td>clean vehicle</td>\n",
              "      <td>34553.0</td>\n",
              "      <td>silver</td>\n",
              "      <td>3n1cn7ap5jl884088</td>\n",
              "      <td>167762225</td>\n",
              "      <td>florida</td>\n",
              "      <td>usa</td>\n",
              "      <td>21 hours left</td>\n",
              "    </tr>\n",
              "    <tr>\n",
              "      <th>2496</th>\n",
              "      <td>2496</td>\n",
              "      <td>9200</td>\n",
              "      <td>nissan</td>\n",
              "      <td>versa</td>\n",
              "      <td>2018</td>\n",
              "      <td>clean vehicle</td>\n",
              "      <td>31594.0</td>\n",
              "      <td>silver</td>\n",
              "      <td>3n1cn7ap9jl884191</td>\n",
              "      <td>167762226</td>\n",
              "      <td>florida</td>\n",
              "      <td>usa</td>\n",
              "      <td>21 hours left</td>\n",
              "    </tr>\n",
              "    <tr>\n",
              "      <th>2497</th>\n",
              "      <td>2497</td>\n",
              "      <td>9200</td>\n",
              "      <td>nissan</td>\n",
              "      <td>versa</td>\n",
              "      <td>2018</td>\n",
              "      <td>clean vehicle</td>\n",
              "      <td>32557.0</td>\n",
              "      <td>black</td>\n",
              "      <td>3n1cn7ap3jl883263</td>\n",
              "      <td>167762227</td>\n",
              "      <td>florida</td>\n",
              "      <td>usa</td>\n",
              "      <td>2 days left</td>\n",
              "    </tr>\n",
              "    <tr>\n",
              "      <th>2498</th>\n",
              "      <td>2498</td>\n",
              "      <td>9200</td>\n",
              "      <td>nissan</td>\n",
              "      <td>versa</td>\n",
              "      <td>2018</td>\n",
              "      <td>clean vehicle</td>\n",
              "      <td>31371.0</td>\n",
              "      <td>silver</td>\n",
              "      <td>3n1cn7ap4jl884311</td>\n",
              "      <td>167762228</td>\n",
              "      <td>florida</td>\n",
              "      <td>usa</td>\n",
              "      <td>21 hours left</td>\n",
              "    </tr>\n",
              "  </tbody>\n",
              "</table>\n",
              "<p>2499 rows × 13 columns</p>\n",
              "</div>\n",
              "      <button class=\"colab-df-convert\" onclick=\"convertToInteractive('df-2cda61bb-50f5-4051-b139-bea1c16bbd2b')\"\n",
              "              title=\"Convert this dataframe to an interactive table.\"\n",
              "              style=\"display:none;\">\n",
              "        \n",
              "  <svg xmlns=\"http://www.w3.org/2000/svg\" height=\"24px\"viewBox=\"0 0 24 24\"\n",
              "       width=\"24px\">\n",
              "    <path d=\"M0 0h24v24H0V0z\" fill=\"none\"/>\n",
              "    <path d=\"M18.56 5.44l.94 2.06.94-2.06 2.06-.94-2.06-.94-.94-2.06-.94 2.06-2.06.94zm-11 1L8.5 8.5l.94-2.06 2.06-.94-2.06-.94L8.5 2.5l-.94 2.06-2.06.94zm10 10l.94 2.06.94-2.06 2.06-.94-2.06-.94-.94-2.06-.94 2.06-2.06.94z\"/><path d=\"M17.41 7.96l-1.37-1.37c-.4-.4-.92-.59-1.43-.59-.52 0-1.04.2-1.43.59L10.3 9.45l-7.72 7.72c-.78.78-.78 2.05 0 2.83L4 21.41c.39.39.9.59 1.41.59.51 0 1.02-.2 1.41-.59l7.78-7.78 2.81-2.81c.8-.78.8-2.07 0-2.86zM5.41 20L4 18.59l7.72-7.72 1.47 1.35L5.41 20z\"/>\n",
              "  </svg>\n",
              "      </button>\n",
              "      \n",
              "  <style>\n",
              "    .colab-df-container {\n",
              "      display:flex;\n",
              "      flex-wrap:wrap;\n",
              "      gap: 12px;\n",
              "    }\n",
              "\n",
              "    .colab-df-convert {\n",
              "      background-color: #E8F0FE;\n",
              "      border: none;\n",
              "      border-radius: 50%;\n",
              "      cursor: pointer;\n",
              "      display: none;\n",
              "      fill: #1967D2;\n",
              "      height: 32px;\n",
              "      padding: 0 0 0 0;\n",
              "      width: 32px;\n",
              "    }\n",
              "\n",
              "    .colab-df-convert:hover {\n",
              "      background-color: #E2EBFA;\n",
              "      box-shadow: 0px 1px 2px rgba(60, 64, 67, 0.3), 0px 1px 3px 1px rgba(60, 64, 67, 0.15);\n",
              "      fill: #174EA6;\n",
              "    }\n",
              "\n",
              "    [theme=dark] .colab-df-convert {\n",
              "      background-color: #3B4455;\n",
              "      fill: #D2E3FC;\n",
              "    }\n",
              "\n",
              "    [theme=dark] .colab-df-convert:hover {\n",
              "      background-color: #434B5C;\n",
              "      box-shadow: 0px 1px 3px 1px rgba(0, 0, 0, 0.15);\n",
              "      filter: drop-shadow(0px 1px 2px rgba(0, 0, 0, 0.3));\n",
              "      fill: #FFFFFF;\n",
              "    }\n",
              "  </style>\n",
              "\n",
              "      <script>\n",
              "        const buttonEl =\n",
              "          document.querySelector('#df-2cda61bb-50f5-4051-b139-bea1c16bbd2b button.colab-df-convert');\n",
              "        buttonEl.style.display =\n",
              "          google.colab.kernel.accessAllowed ? 'block' : 'none';\n",
              "\n",
              "        async function convertToInteractive(key) {\n",
              "          const element = document.querySelector('#df-2cda61bb-50f5-4051-b139-bea1c16bbd2b');\n",
              "          const dataTable =\n",
              "            await google.colab.kernel.invokeFunction('convertToInteractive',\n",
              "                                                     [key], {});\n",
              "          if (!dataTable) return;\n",
              "\n",
              "          const docLinkHtml = 'Like what you see? Visit the ' +\n",
              "            '<a target=\"_blank\" href=https://colab.research.google.com/notebooks/data_table.ipynb>data table notebook</a>'\n",
              "            + ' to learn more about interactive tables.';\n",
              "          element.innerHTML = '';\n",
              "          dataTable['output_type'] = 'display_data';\n",
              "          await google.colab.output.renderOutput(dataTable, element);\n",
              "          const docLink = document.createElement('div');\n",
              "          docLink.innerHTML = docLinkHtml;\n",
              "          element.appendChild(docLink);\n",
              "        }\n",
              "      </script>\n",
              "    </div>\n",
              "  </div>\n",
              "  "
            ]
          },
          "metadata": {},
          "execution_count": 4
        }
      ]
    },
    {
      "cell_type": "code",
      "source": [
        "df.info()"
      ],
      "metadata": {
        "colab": {
          "base_uri": "https://localhost:8080/"
        },
        "id": "wO1cAe9HNlJ0",
        "outputId": "bfed202a-691f-49d2-86f6-6a5925aba74a"
      },
      "execution_count": 5,
      "outputs": [
        {
          "output_type": "stream",
          "name": "stdout",
          "text": [
            "<class 'pandas.core.frame.DataFrame'>\n",
            "RangeIndex: 2499 entries, 0 to 2498\n",
            "Data columns (total 13 columns):\n",
            " #   Column        Non-Null Count  Dtype  \n",
            "---  ------        --------------  -----  \n",
            " 0   Unnamed: 0    2499 non-null   int64  \n",
            " 1   price         2499 non-null   int64  \n",
            " 2   brand         2499 non-null   object \n",
            " 3   model         2499 non-null   object \n",
            " 4   year          2499 non-null   int64  \n",
            " 5   title_status  2499 non-null   object \n",
            " 6   mileage       2499 non-null   float64\n",
            " 7   color         2499 non-null   object \n",
            " 8   vin           2499 non-null   object \n",
            " 9   lot           2499 non-null   int64  \n",
            " 10  state         2499 non-null   object \n",
            " 11  country       2499 non-null   object \n",
            " 12  condition     2499 non-null   object \n",
            "dtypes: float64(1), int64(4), object(8)\n",
            "memory usage: 253.9+ KB\n"
          ]
        }
      ]
    },
    {
      "cell_type": "code",
      "source": [
        "df.shape #2499 rows and 13 columns"
      ],
      "metadata": {
        "colab": {
          "base_uri": "https://localhost:8080/"
        },
        "id": "h6YhzSwmZR2L",
        "outputId": "6fc38433-5124-4451-b126-07d66d7ef0fe"
      },
      "execution_count": 6,
      "outputs": [
        {
          "output_type": "execute_result",
          "data": {
            "text/plain": [
              "(2499, 13)"
            ]
          },
          "metadata": {},
          "execution_count": 6
        }
      ]
    },
    {
      "cell_type": "code",
      "source": [
        "df.size #Total number of elements in my dataframe"
      ],
      "metadata": {
        "colab": {
          "base_uri": "https://localhost:8080/"
        },
        "id": "BbN7EiF6Z6yD",
        "outputId": "d1802200-3d8a-4e14-f32a-8cba21831eee"
      },
      "execution_count": 7,
      "outputs": [
        {
          "output_type": "execute_result",
          "data": {
            "text/plain": [
              "32487"
            ]
          },
          "metadata": {},
          "execution_count": 7
        }
      ]
    },
    {
      "cell_type": "code",
      "source": [
        "# To check the null values or missing values\n",
        "df.isnull().sum()"
      ],
      "metadata": {
        "colab": {
          "base_uri": "https://localhost:8080/"
        },
        "id": "y9jIhEl1aKK8",
        "outputId": "239238a6-ca46-4a75-f109-e46583a021f2"
      },
      "execution_count": 8,
      "outputs": [
        {
          "output_type": "execute_result",
          "data": {
            "text/plain": [
              "Unnamed: 0      0\n",
              "price           0\n",
              "brand           0\n",
              "model           0\n",
              "year            0\n",
              "title_status    0\n",
              "mileage         0\n",
              "color           0\n",
              "vin             0\n",
              "lot             0\n",
              "state           0\n",
              "country         0\n",
              "condition       0\n",
              "dtype: int64"
            ]
          },
          "metadata": {},
          "execution_count": 8
        }
      ]
    },
    {
      "cell_type": "code",
      "source": [
        "#I want to find out the no of unique elements/values in each and every column\n",
        "df.nunique()"
      ],
      "metadata": {
        "colab": {
          "base_uri": "https://localhost:8080/"
        },
        "id": "-QlQT4M7bCZV",
        "outputId": "90862076-3b7a-4ad2-e7d9-c0c187b9ddb5"
      },
      "execution_count": 9,
      "outputs": [
        {
          "output_type": "execute_result",
          "data": {
            "text/plain": [
              "Unnamed: 0      2499\n",
              "price            790\n",
              "brand             28\n",
              "model            127\n",
              "year              30\n",
              "title_status       2\n",
              "mileage         2439\n",
              "color             49\n",
              "vin             2495\n",
              "lot             2495\n",
              "state             44\n",
              "country            2\n",
              "condition         47\n",
              "dtype: int64"
            ]
          },
          "metadata": {},
          "execution_count": 9
        }
      ]
    },
    {
      "cell_type": "code",
      "source": [
        "#VISUALISATION - SEABORN\n",
        "# 1st Conclusion/fact\n",
        "import seaborn as sns\n",
        "sns.countplot(x = 'price',data = df)\n",
        "#This count plot will tell us what's the price of all cars are there in usa car datasets\n"
      ],
      "metadata": {
        "colab": {
          "base_uri": "https://localhost:8080/",
          "height": 296
        },
        "id": "nVcI-DA6vIoi",
        "outputId": "c7a95fec-fa03-4c6c-d07f-0e5ef07ad41e"
      },
      "execution_count": 10,
      "outputs": [
        {
          "output_type": "execute_result",
          "data": {
            "text/plain": [
              "<matplotlib.axes._subplots.AxesSubplot at 0x7fc66bd24250>"
            ]
          },
          "metadata": {},
          "execution_count": 10
        },
        {
          "output_type": "display_data",
          "data": {
            "text/plain": [
              "<Figure size 432x288 with 1 Axes>"
            ],
            "image/png": "[encoded data removed]"
          },
          "metadata": {
            "needs_background": "light"
          }
        }
      ]
    },
    {
      "cell_type": "code",
      "source": [
        "#Finding out the exact count of prices aborad usa cars \n",
        "df.groupby('price').size()"
      ],
      "metadata": {
        "colab": {
          "base_uri": "https://localhost:8080/"
        },
        "id": "DhL9HZOEvWi0",
        "outputId": "00663bf9-719c-431d-edb5-ddf6bbcd5323"
      },
      "execution_count": 11,
      "outputs": [
        {
          "output_type": "execute_result",
          "data": {
            "text/plain": [
              "price\n",
              "0        43\n",
              "25       18\n",
              "50        2\n",
              "75        3\n",
              "100       1\n",
              "         ..\n",
              "65500     1\n",
              "67000     1\n",
              "70000     1\n",
              "74000     1\n",
              "84900     1\n",
              "Length: 790, dtype: int64"
            ]
          },
          "metadata": {},
          "execution_count": 11
        }
      ]
    },
    {
      "cell_type": "code",
      "source": [
        "df['price'].value_counts()"
      ],
      "metadata": {
        "colab": {
          "base_uri": "https://localhost:8080/"
        },
        "id": "Fk8PQeVDznWg",
        "outputId": "56edb290-f57b-428e-dd82-0a8f9bb246b8"
      },
      "execution_count": 12,
      "outputs": [
        {
          "output_type": "execute_result",
          "data": {
            "text/plain": [
              "0        43\n",
              "16500    26\n",
              "13900    21\n",
              "15500    19\n",
              "15000    19\n",
              "         ..\n",
              "12560     1\n",
              "11760     1\n",
              "7340      1\n",
              "6530      1\n",
              "30100     1\n",
              "Name: price, Length: 790, dtype: int64"
            ]
          },
          "metadata": {},
          "execution_count": 12
        }
      ]
    },
    {
      "cell_type": "code",
      "source": [
        "# 2nd Conclusion/fact\n",
        "#This count plot will tell us types of brands are there in usa car datasets\n",
        "sns.countplot(x = 'brand',data = df)"
      ],
      "metadata": {
        "colab": {
          "base_uri": "https://localhost:8080/",
          "height": 296
        },
        "id": "B13qJsGAvdFQ",
        "outputId": "f6e53c42-0836-48ae-8f29-2035bb8c2505"
      },
      "execution_count": 13,
      "outputs": [
        {
          "output_type": "execute_result",
          "data": {
            "text/plain": [
              "<matplotlib.axes._subplots.AxesSubplot at 0x7fc66bc84790>"
            ]
          },
          "metadata": {},
          "execution_count": 13
        },
        {
          "output_type": "display_data",
          "data": {
            "text/plain": [
              "<Figure size 432x288 with 1 Axes>"
            ],
            "image/png": "[encoded data removed]"
          },
          "metadata": {
            "needs_background": "light"
          }
        }
      ]
    },
    {
      "cell_type": "code",
      "source": [
        "#Finding out the exact count of no of brands aborad usa cars datasets\n",
        "df.groupby('brand').size()"
      ],
      "metadata": {
        "colab": {
          "base_uri": "https://localhost:8080/"
        },
        "id": "uZ2VIHWxvmpI",
        "outputId": "fcef0bc1-fd99-4a68-e1dc-b075f3d1909e"
      },
      "execution_count": 14,
      "outputs": [
        {
          "output_type": "execute_result",
          "data": {
            "text/plain": [
              "brand\n",
              "acura                 3\n",
              "audi                  4\n",
              "bmw                  17\n",
              "buick                13\n",
              "cadillac             10\n",
              "chevrolet           297\n",
              "chrysler             18\n",
              "dodge               432\n",
              "ford               1235\n",
              "gmc                  42\n",
              "harley-davidson       1\n",
              "heartland             5\n",
              "honda                12\n",
              "hyundai              15\n",
              "infiniti             12\n",
              "jaguar                1\n",
              "jeep                 30\n",
              "kia                  13\n",
              "land                  4\n",
              "lexus                 2\n",
              "lincoln               2\n",
              "maserati              1\n",
              "mazda                 2\n",
              "mercedes-benz        10\n",
              "nissan              312\n",
              "peterbilt             4\n",
              "ram                   1\n",
              "toyota                1\n",
              "dtype: int64"
            ]
          },
          "metadata": {},
          "execution_count": 14
        }
      ]
    },
    {
      "cell_type": "code",
      "source": [
        "df['brand'].value_counts()"
      ],
      "metadata": {
        "colab": {
          "base_uri": "https://localhost:8080/"
        },
        "id": "dU5seGQuzuZ_",
        "outputId": "44347eb9-d83f-4790-d023-1f699ebf0103"
      },
      "execution_count": 15,
      "outputs": [
        {
          "output_type": "execute_result",
          "data": {
            "text/plain": [
              "ford               1235\n",
              "dodge               432\n",
              "nissan              312\n",
              "chevrolet           297\n",
              "gmc                  42\n",
              "jeep                 30\n",
              "chrysler             18\n",
              "bmw                  17\n",
              "hyundai              15\n",
              "kia                  13\n",
              "buick                13\n",
              "infiniti             12\n",
              "honda                12\n",
              "cadillac             10\n",
              "mercedes-benz        10\n",
              "heartland             5\n",
              "land                  4\n",
              "peterbilt             4\n",
              "audi                  4\n",
              "acura                 3\n",
              "lincoln               2\n",
              "lexus                 2\n",
              "mazda                 2\n",
              "maserati              1\n",
              "toyota                1\n",
              "harley-davidson       1\n",
              "jaguar                1\n",
              "ram                   1\n",
              "Name: brand, dtype: int64"
            ]
          },
          "metadata": {},
          "execution_count": 15
        }
      ]
    },
    {
      "cell_type": "code",
      "source": [
        "# 3rd Conclusion/fact\n",
        "#This count plot will tell us types of models are there in usa car datasets\n",
        "sns.countplot(x = 'model',data = df)"
      ],
      "metadata": {
        "colab": {
          "base_uri": "https://localhost:8080/",
          "height": 296
        },
        "id": "rkGS1UWCvtcE",
        "outputId": "764a3c25-1f72-4da6-9ddf-6c693b715074"
      },
      "execution_count": 16,
      "outputs": [
        {
          "output_type": "execute_result",
          "data": {
            "text/plain": [
              "<matplotlib.axes._subplots.AxesSubplot at 0x7fc66aa95fd0>"
            ]
          },
          "metadata": {},
          "execution_count": 16
        },
        {
          "output_type": "display_data",
          "data": {
            "text/plain": [
              "<Figure size 432x288 with 1 Axes>"
            ],
            "image/png": "[encoded data removed]"
          },
          "metadata": {
            "needs_background": "light"
          }
        }
      ]
    },
    {
      "cell_type": "code",
      "source": [
        "#Finding out the exact count of no of models aborad usa cars \n",
        "df.groupby('model').size()"
      ],
      "metadata": {
        "colab": {
          "base_uri": "https://localhost:8080/"
        },
        "id": "91yegcQWv3Un",
        "outputId": "88088715-092f-4394-9444-355908db4dec"
      },
      "execution_count": 17,
      "outputs": [
        {
          "output_type": "execute_result",
          "data": {
            "text/plain": [
              "model\n",
              "1500      39\n",
              "2500       8\n",
              "2500hd     1\n",
              "300        6\n",
              "3500       4\n",
              "          ..\n",
              "wagon     30\n",
              "x3         2\n",
              "xd         1\n",
              "xt5        1\n",
              "xterra     1\n",
              "Length: 127, dtype: int64"
            ]
          },
          "metadata": {},
          "execution_count": 17
        }
      ]
    },
    {
      "cell_type": "code",
      "source": [
        "df['model'].value_counts()"
      ],
      "metadata": {
        "colab": {
          "base_uri": "https://localhost:8080/"
        },
        "id": "bAgZx52Mz2Ox",
        "outputId": "1337fc49-f25c-4adb-a6f6-8e5485c98530"
      },
      "execution_count": 18,
      "outputs": [
        {
          "output_type": "execute_result",
          "data": {
            "text/plain": [
              "door        651\n",
              "f-150       219\n",
              "doors       148\n",
              "caravan     102\n",
              "mpv          87\n",
              "           ... \n",
              "sl-class      1\n",
              "cx-3          1\n",
              "2500hd        1\n",
              "mdx           1\n",
              "nvp           1\n",
              "Name: model, Length: 127, dtype: int64"
            ]
          },
          "metadata": {},
          "execution_count": 18
        }
      ]
    },
    {
      "cell_type": "code",
      "source": [
        "# 4th Conclusion/fact\n",
        "#This count plot will tell us about in which year how many cars are prepared are there in usa car datasets\n",
        "sns.countplot(x = 'year',data = df)"
      ],
      "metadata": {
        "colab": {
          "base_uri": "https://localhost:8080/",
          "height": 296
        },
        "id": "gwGRI_eLv9mM",
        "outputId": "570a2a8b-0100-43e5-a4bc-2da171d893d1"
      },
      "execution_count": 19,
      "outputs": [
        {
          "output_type": "execute_result",
          "data": {
            "text/plain": [
              "<matplotlib.axes._subplots.AxesSubplot at 0x7fc66b3ba410>"
            ]
          },
          "metadata": {},
          "execution_count": 19
        },
        {
          "output_type": "display_data",
          "data": {
            "text/plain": [
              "<Figure size 432x288 with 1 Axes>"
            ],
            "image/png": "[encoded data removed]"
          },
          "metadata": {
            "needs_background": "light"
          }
        }
      ]
    },
    {
      "cell_type": "code",
      "source": [
        "#Finding out the exact count of no of years aborad usa cars datasets\n",
        "df.groupby('year').size()"
      ],
      "metadata": {
        "colab": {
          "base_uri": "https://localhost:8080/"
        },
        "id": "24h0jeK-wKD0",
        "outputId": "c40fe890-abeb-47ef-8a6a-0fb371ae3dd4"
      },
      "execution_count": 20,
      "outputs": [
        {
          "output_type": "execute_result",
          "data": {
            "text/plain": [
              "year\n",
              "1973      1\n",
              "1984      1\n",
              "1993      1\n",
              "1994      2\n",
              "1995      1\n",
              "1996      2\n",
              "1997      2\n",
              "1998      4\n",
              "1999      1\n",
              "2000      4\n",
              "2001      5\n",
              "2002      2\n",
              "2003      9\n",
              "2004      6\n",
              "2005      6\n",
              "2006      8\n",
              "2007      6\n",
              "2008     18\n",
              "2009     11\n",
              "2010     13\n",
              "2011     23\n",
              "2012     72\n",
              "2013     86\n",
              "2014    104\n",
              "2015    196\n",
              "2016    203\n",
              "2017    377\n",
              "2018    395\n",
              "2019    892\n",
              "2020     48\n",
              "dtype: int64"
            ]
          },
          "metadata": {},
          "execution_count": 20
        }
      ]
    },
    {
      "cell_type": "code",
      "source": [
        "df['year'].value_counts()"
      ],
      "metadata": {
        "colab": {
          "base_uri": "https://localhost:8080/"
        },
        "id": "LpAhumrPz8HL",
        "outputId": "e38c6f59-b57a-42f8-aee5-cff9f0636ce0"
      },
      "execution_count": 21,
      "outputs": [
        {
          "output_type": "execute_result",
          "data": {
            "text/plain": [
              "2019    892\n",
              "2018    395\n",
              "2017    377\n",
              "2016    203\n",
              "2015    196\n",
              "2014    104\n",
              "2013     86\n",
              "2012     72\n",
              "2020     48\n",
              "2011     23\n",
              "2008     18\n",
              "2010     13\n",
              "2009     11\n",
              "2003      9\n",
              "2006      8\n",
              "2004      6\n",
              "2007      6\n",
              "2005      6\n",
              "2001      5\n",
              "1998      4\n",
              "2000      4\n",
              "2002      2\n",
              "1994      2\n",
              "1997      2\n",
              "1996      2\n",
              "1973      1\n",
              "1999      1\n",
              "1984      1\n",
              "1995      1\n",
              "1993      1\n",
              "Name: year, dtype: int64"
            ]
          },
          "metadata": {},
          "execution_count": 21
        }
      ]
    },
    {
      "cell_type": "code",
      "source": [
        "# 5th Conclusion/fact\n",
        "#This count plot will tell us about the mileage of cars are there in usa car datasets\n",
        "sns.countplot(x = 'mileage',data = df)"
      ],
      "metadata": {
        "colab": {
          "base_uri": "https://localhost:8080/",
          "height": 296
        },
        "id": "JG5H-fVIwPOK",
        "outputId": "e608481f-e2a8-4046-c017-5d8b5b747ec5"
      },
      "execution_count": 22,
      "outputs": [
        {
          "output_type": "execute_result",
          "data": {
            "text/plain": [
              "<matplotlib.axes._subplots.AxesSubplot at 0x7fc669c898d0>"
            ]
          },
          "metadata": {},
          "execution_count": 22
        },
        {
          "output_type": "display_data",
          "data": {
            "text/plain": [
              "<Figure size 432x288 with 1 Axes>"
            ],
            "image/png": "[encoded data removed]"
          },
          "metadata": {
            "needs_background": "light"
          }
        }
      ]
    },
    {
      "cell_type": "code",
      "source": [
        "#Finding out the exact count of no of mileages aborad usa cars \n",
        "df.groupby('mileage').size()"
      ],
      "metadata": {
        "colab": {
          "base_uri": "https://localhost:8080/"
        },
        "id": "wopk6buSwdlL",
        "outputId": "a249c028-03d0-43da-8c82-fa26cd961fc0"
      },
      "execution_count": 23,
      "outputs": [
        {
          "output_type": "execute_result",
          "data": {
            "text/plain": [
              "mileage\n",
              "0.0           6\n",
              "1.0          11\n",
              "7.0           1\n",
              "71.0          1\n",
              "122.0         1\n",
              "             ..\n",
              "507985.0      1\n",
              "902041.0      1\n",
              "982486.0      1\n",
              "999999.0      1\n",
              "1017936.0     1\n",
              "Length: 2439, dtype: int64"
            ]
          },
          "metadata": {},
          "execution_count": 23
        }
      ]
    },
    {
      "cell_type": "code",
      "source": [
        "df['mileage'].value_counts()"
      ],
      "metadata": {
        "colab": {
          "base_uri": "https://localhost:8080/"
        },
        "id": "xaAFubYoz_um",
        "outputId": "45204697-8e27-4260-c965-70566c6300eb"
      },
      "execution_count": 24,
      "outputs": [
        {
          "output_type": "execute_result",
          "data": {
            "text/plain": [
              "1.0        11\n",
              "0.0         6\n",
              "31727.0     2\n",
              "33808.0     2\n",
              "21774.0     2\n",
              "           ..\n",
              "90685.0     1\n",
              "54141.0     1\n",
              "82240.0     1\n",
              "66167.0     1\n",
              "31371.0     1\n",
              "Name: mileage, Length: 2439, dtype: int64"
            ]
          },
          "metadata": {},
          "execution_count": 24
        }
      ]
    },
    {
      "cell_type": "code",
      "source": [
        "# 6 th Conclusion/fact\n",
        "#This count plot will tell us about the types of colors are there in usa car datasets\n",
        "sns.countplot(x = 'color',data = df)"
      ],
      "metadata": {
        "colab": {
          "base_uri": "https://localhost:8080/",
          "height": 297
        },
        "id": "XmzaZTgBwzJY",
        "outputId": "2f94cf63-d078-4346-8ea9-2d4ba6447473"
      },
      "execution_count": 25,
      "outputs": [
        {
          "output_type": "execute_result",
          "data": {
            "text/plain": [
              "<matplotlib.axes._subplots.AxesSubplot at 0x7fc666474910>"
            ]
          },
          "metadata": {},
          "execution_count": 25
        },
        {
          "output_type": "display_data",
          "data": {
            "text/plain": [
              "<Figure size 432x288 with 1 Axes>"
            ],
            "image/png": "[encoded data removed]"
          },
          "metadata": {
            "needs_background": "light"
          }
        }
      ]
    },
    {
      "cell_type": "code",
      "source": [
        "#Finding out the exact count of no of colors aborad usa cars datasets\n",
        "df.groupby('color').size()"
      ],
      "metadata": {
        "colab": {
          "base_uri": "https://localhost:8080/"
        },
        "id": "QZPSwAi_w8ki",
        "outputId": "dc94d7bd-4aab-488c-ea7f-979aceb350d5"
      },
      "execution_count": 26,
      "outputs": [
        {
          "output_type": "execute_result",
          "data": {
            "text/plain": [
              "color\n",
              "beige                                        5\n",
              "billet silver metallic clearcoat             3\n",
              "black                                      516\n",
              "black clearcoat                              2\n",
              "blue                                       151\n",
              "bright white clearcoat                       2\n",
              "brown                                       15\n",
              "burgundy                                     1\n",
              "cayenne red                                  2\n",
              "charcoal                                    18\n",
              "color:                                       5\n",
              "competition orange                           1\n",
              "dark blue                                    1\n",
              "glacier white                                1\n",
              "gold                                        19\n",
              "gray                                       395\n",
              "green                                       24\n",
              "guard                                        1\n",
              "ingot silver                                 1\n",
              "ingot silver metallic                        4\n",
              "jazz blue pearlcoat                          1\n",
              "kona blue metallic                           1\n",
              "light blue                                   1\n",
              "lightning blue                               1\n",
              "magnetic metallic                            6\n",
              "maroon                                       1\n",
              "morningsky blue                              1\n",
              "no_color                                    61\n",
              "off-white                                    2\n",
              "orange                                      20\n",
              "oxford white                                 4\n",
              "pearl white                                  1\n",
              "phantom black                                1\n",
              "purple                                       1\n",
              "red                                        192\n",
              "royal crimson metallic tinted clearcoat      1\n",
              "ruby red                                     1\n",
              "ruby red metallic tinted clearcoat           2\n",
              "shadow black                                 5\n",
              "silver                                     300\n",
              "super black                                  3\n",
              "tan                                          1\n",
              "toreador red                                 1\n",
              "triple yellow tri-coat                       3\n",
              "turquoise                                    1\n",
              "tuxedo black metallic                        2\n",
              "white                                      707\n",
              "white platinum tri-coat metallic             2\n",
              "yellow                                       9\n",
              "dtype: int64"
            ]
          },
          "metadata": {},
          "execution_count": 26
        }
      ]
    },
    {
      "cell_type": "code",
      "source": [
        "df['color'].value_counts()"
      ],
      "metadata": {
        "colab": {
          "base_uri": "https://localhost:8080/"
        },
        "id": "QTztAD490Df0",
        "outputId": "5405e241-ba69-4657-ca5b-17930d370129"
      },
      "execution_count": 27,
      "outputs": [
        {
          "output_type": "execute_result",
          "data": {
            "text/plain": [
              "white                                      707\n",
              "black                                      516\n",
              "gray                                       395\n",
              "silver                                     300\n",
              "red                                        192\n",
              "blue                                       151\n",
              "no_color                                    61\n",
              "green                                       24\n",
              "orange                                      20\n",
              "gold                                        19\n",
              "charcoal                                    18\n",
              "brown                                       15\n",
              "yellow                                       9\n",
              "magnetic metallic                            6\n",
              "shadow black                                 5\n",
              "color:                                       5\n",
              "beige                                        5\n",
              "oxford white                                 4\n",
              "ingot silver metallic                        4\n",
              "super black                                  3\n",
              "billet silver metallic clearcoat             3\n",
              "triple yellow tri-coat                       3\n",
              "cayenne red                                  2\n",
              "white platinum tri-coat metallic             2\n",
              "off-white                                    2\n",
              "ruby red metallic tinted clearcoat           2\n",
              "tuxedo black metallic                        2\n",
              "black clearcoat                              2\n",
              "bright white clearcoat                       2\n",
              "morningsky blue                              1\n",
              "guard                                        1\n",
              "pearl white                                  1\n",
              "tan                                          1\n",
              "burgundy                                     1\n",
              "ingot silver                                 1\n",
              "lightning blue                               1\n",
              "jazz blue pearlcoat                          1\n",
              "kona blue metallic                           1\n",
              "royal crimson metallic tinted clearcoat      1\n",
              "ruby red                                     1\n",
              "competition orange                           1\n",
              "purple                                       1\n",
              "toreador red                                 1\n",
              "light blue                                   1\n",
              "phantom black                                1\n",
              "maroon                                       1\n",
              "dark blue                                    1\n",
              "turquoise                                    1\n",
              "glacier white                                1\n",
              "Name: color, dtype: int64"
            ]
          },
          "metadata": {},
          "execution_count": 27
        }
      ]
    },
    {
      "cell_type": "code",
      "source": [
        "#7th Conclusion/fact\n",
        "#This count plot will tell us about the different types of vehicle identification number (vin) are there in usa car datasets\n",
        "sns.countplot(x = 'vin',data = df)"
      ],
      "metadata": {
        "colab": {
          "base_uri": "https://localhost:8080/",
          "height": 296
        },
        "id": "cGzi6T8SxMIC",
        "outputId": "12371ea0-512a-4af8-c5e7-9186c7501d6f"
      },
      "execution_count": 28,
      "outputs": [
        {
          "output_type": "execute_result",
          "data": {
            "text/plain": [
              "<matplotlib.axes._subplots.AxesSubplot at 0x7fc66607c9d0>"
            ]
          },
          "metadata": {},
          "execution_count": 28
        },
        {
          "output_type": "display_data",
          "data": {
            "text/plain": [
              "<Figure size 432x288 with 1 Axes>"
            ],
            "image/png": "[encoded data removed]"
          },
          "metadata": {
            "needs_background": "light"
          }
        }
      ]
    },
    {
      "cell_type": "code",
      "source": [
        "#Finding out the exact count of no of vin aborad usa cars datasets\n",
        "df.groupby('vin').size()"
      ],
      "metadata": {
        "colab": {
          "base_uri": "https://localhost:8080/"
        },
        "id": "LSe57n1KxVWu",
        "outputId": "d5ff39c6-43c0-44f7-f03b-d1457d4fc7a0"
      },
      "execution_count": 29,
      "outputs": [
        {
          "output_type": "execute_result",
          "data": {
            "text/plain": [
              "vin\n",
              "  19uua96529a004646    1\n",
              "  19xfb2f81fe252000    1\n",
              "  1b7hc16x01s213315    1\n",
              "  1b7hg38n62s587845    1\n",
              "  1c3bc1fg1bn519076    1\n",
              "                      ..\n",
              "  wddwk4jb2jf613298    1\n",
              "  wddzf4jb6ha277485    1\n",
              "  wf0dp3th0g4113219    1\n",
              "  wuac6bfr0fa901212    1\n",
              "  zam57xslxh1248775    1\n",
              "Length: 2495, dtype: int64"
            ]
          },
          "metadata": {},
          "execution_count": 29
        }
      ]
    },
    {
      "cell_type": "code",
      "source": [
        "df['vin'].value_counts()"
      ],
      "metadata": {
        "colab": {
          "base_uri": "https://localhost:8080/"
        },
        "id": "Qp1KOv190IDP",
        "outputId": "14d6a371-1a08-4605-ebf0-2ed3680bfe6d"
      },
      "execution_count": 30,
      "outputs": [
        {
          "output_type": "execute_result",
          "data": {
            "text/plain": [
              "  1gnevhkw8jj148388    2\n",
              "  1gndt13s632267445    2\n",
              "  3gcrkse37ag234620    2\n",
              "  1g1al58f787159241    2\n",
              "  1fm5k8gt7kgb48943    1\n",
              "                      ..\n",
              "  2c3cdxbg5eh300547    1\n",
              "  2c4rdgcg8jr208468    1\n",
              "  3c4pdcab8ht507652    1\n",
              "  3c4pdcgb7ht525941    1\n",
              "  3n1cn7ap4jl884311    1\n",
              "Name: vin, Length: 2495, dtype: int64"
            ]
          },
          "metadata": {},
          "execution_count": 30
        }
      ]
    },
    {
      "cell_type": "code",
      "source": [
        "# 8th conclusion/fact\n",
        "sns.countplot(x = 'lot',data = df)"
      ],
      "metadata": {
        "colab": {
          "base_uri": "https://localhost:8080/",
          "height": 296
        },
        "id": "9pmbU2jexZJ6",
        "outputId": "22d715da-0fbf-4ac2-8fc8-cdf44a9f8dc7"
      },
      "execution_count": 31,
      "outputs": [
        {
          "output_type": "execute_result",
          "data": {
            "text/plain": [
              "<matplotlib.axes._subplots.AxesSubplot at 0x7fc666121210>"
            ]
          },
          "metadata": {},
          "execution_count": 31
        },
        {
          "output_type": "display_data",
          "data": {
            "text/plain": [
              "<Figure size 432x288 with 1 Axes>"
            ],
            "image/png": "[encoded data removed]"
          },
          "metadata": {
            "needs_background": "light"
          }
        }
      ]
    },
    {
      "cell_type": "code",
      "source": [
        "#Finding out the exact count of no of lot aborad usa cars datasets\n",
        "df.groupby('lot').size()"
      ],
      "metadata": {
        "colab": {
          "base_uri": "https://localhost:8080/"
        },
        "id": "TkVhq6Edxdg7",
        "outputId": "f105c3a0-bd1b-45a0-ad06-5b7b91bca1e4"
      },
      "execution_count": 32,
      "outputs": [
        {
          "output_type": "execute_result",
          "data": {
            "text/plain": [
              "lot\n",
              "159348797    1\n",
              "166951262    1\n",
              "167117726    1\n",
              "167117732    1\n",
              "167119104    1\n",
              "            ..\n",
              "167804714    1\n",
              "167805479    1\n",
              "167805483    1\n",
              "167805497    1\n",
              "167805500    1\n",
              "Length: 2495, dtype: int64"
            ]
          },
          "metadata": {},
          "execution_count": 32
        }
      ]
    },
    {
      "cell_type": "code",
      "source": [
        "df['lot'].value_counts()"
      ],
      "metadata": {
        "colab": {
          "base_uri": "https://localhost:8080/"
        },
        "id": "g0fbG8UD0LlO",
        "outputId": "07bbefc7-7748-4c4c-8cb3-30ebe78a7b8f"
      },
      "execution_count": 33,
      "outputs": [
        {
          "output_type": "execute_result",
          "data": {
            "text/plain": [
              "167781794    2\n",
              "167650636    2\n",
              "167650663    2\n",
              "167650632    2\n",
              "167749575    1\n",
              "            ..\n",
              "167771550    1\n",
              "167772963    1\n",
              "167772985    1\n",
              "167772989    1\n",
              "167762228    1\n",
              "Name: lot, Length: 2495, dtype: int64"
            ]
          },
          "metadata": {},
          "execution_count": 33
        }
      ]
    },
    {
      "cell_type": "code",
      "source": [
        "# 9th Conclusion/fact\n",
        "#This count plot will tell us the about types of states are available in usa car datasets\n",
        "sns.countplot(x = 'state',data = df)"
      ],
      "metadata": {
        "colab": {
          "base_uri": "https://localhost:8080/",
          "height": 296
        },
        "id": "E5vXykJgxo7t",
        "outputId": "e7518ce0-b221-4167-eac0-c435a7d82bf2"
      },
      "execution_count": 34,
      "outputs": [
        {
          "output_type": "execute_result",
          "data": {
            "text/plain": [
              "<matplotlib.axes._subplots.AxesSubplot at 0x7fc660cdfbd0>"
            ]
          },
          "metadata": {},
          "execution_count": 34
        },
        {
          "output_type": "display_data",
          "data": {
            "text/plain": [
              "<Figure size 432x288 with 1 Axes>"
            ],
            "image/png": "[encoded data removed]"
          },
          "metadata": {
            "needs_background": "light"
          }
        }
      ]
    },
    {
      "cell_type": "code",
      "source": [
        "#Finding out the exact count of no of state aborad usa cars datasets\n",
        "df.groupby('state').size()"
      ],
      "metadata": {
        "colab": {
          "base_uri": "https://localhost:8080/"
        },
        "id": "_ZGWMuXex6_N",
        "outputId": "f81bb931-e047-42e0-9726-198d3c4a66c0"
      },
      "execution_count": 35,
      "outputs": [
        {
          "output_type": "execute_result",
          "data": {
            "text/plain": [
              "state\n",
              "alabama            17\n",
              "arizona            33\n",
              "arkansas           12\n",
              "california        190\n",
              "colorado           21\n",
              "connecticut        25\n",
              "florida           246\n",
              "georgia            51\n",
              "idaho               2\n",
              "illinois          113\n",
              "indiana            14\n",
              "kansas              4\n",
              "kentucky            9\n",
              "louisiana          11\n",
              "maryland            4\n",
              "massachusetts      27\n",
              "michigan          169\n",
              "minnesota         119\n",
              "mississippi        24\n",
              "missouri           46\n",
              "montana             1\n",
              "nebraska            4\n",
              "nevada             85\n",
              "new hampshire       4\n",
              "new jersey         87\n",
              "new mexico          4\n",
              "new york           58\n",
              "north carolina    146\n",
              "ohio               31\n",
              "oklahoma           71\n",
              "ontario             7\n",
              "oregon             27\n",
              "pennsylvania      299\n",
              "rhode island        2\n",
              "south carolina     64\n",
              "tennessee          26\n",
              "texas             214\n",
              "utah               10\n",
              "vermont             2\n",
              "virginia           90\n",
              "washington         14\n",
              "west virginia      21\n",
              "wisconsin          94\n",
              "wyoming             1\n",
              "dtype: int64"
            ]
          },
          "metadata": {},
          "execution_count": 35
        }
      ]
    },
    {
      "cell_type": "code",
      "source": [
        "df['state'].value_counts()"
      ],
      "metadata": {
        "colab": {
          "base_uri": "https://localhost:8080/"
        },
        "id": "dVAPtylW0Omn",
        "outputId": "dd738eed-9394-4611-f77e-196a9b16d189"
      },
      "execution_count": 36,
      "outputs": [
        {
          "output_type": "execute_result",
          "data": {
            "text/plain": [
              "pennsylvania      299\n",
              "florida           246\n",
              "texas             214\n",
              "california        190\n",
              "michigan          169\n",
              "north carolina    146\n",
              "minnesota         119\n",
              "illinois          113\n",
              "wisconsin          94\n",
              "virginia           90\n",
              "new jersey         87\n",
              "nevada             85\n",
              "oklahoma           71\n",
              "south carolina     64\n",
              "new york           58\n",
              "georgia            51\n",
              "missouri           46\n",
              "arizona            33\n",
              "ohio               31\n",
              "massachusetts      27\n",
              "oregon             27\n",
              "tennessee          26\n",
              "connecticut        25\n",
              "mississippi        24\n",
              "colorado           21\n",
              "west virginia      21\n",
              "alabama            17\n",
              "washington         14\n",
              "indiana            14\n",
              "arkansas           12\n",
              "louisiana          11\n",
              "utah               10\n",
              "kentucky            9\n",
              "ontario             7\n",
              "kansas              4\n",
              "maryland            4\n",
              "nebraska            4\n",
              "new mexico          4\n",
              "new hampshire       4\n",
              "rhode island        2\n",
              "idaho               2\n",
              "vermont             2\n",
              "wyoming             1\n",
              "montana             1\n",
              "Name: state, dtype: int64"
            ]
          },
          "metadata": {},
          "execution_count": 36
        }
      ]
    },
    {
      "cell_type": "code",
      "source": [
        "# 10th Conclusion/fact\n",
        "#This count plot will tell us about conditions of cars are there in usa car datasets\n",
        "sns.countplot(x = 'condition',data = df)"
      ],
      "metadata": {
        "colab": {
          "base_uri": "https://localhost:8080/",
          "height": 296
        },
        "id": "NpS_wfA9yorC",
        "outputId": "357e6b36-3739-4518-c1a5-b6d322d1df23"
      },
      "execution_count": 37,
      "outputs": [
        {
          "output_type": "execute_result",
          "data": {
            "text/plain": [
              "<matplotlib.axes._subplots.AxesSubplot at 0x7fc660da5fd0>"
            ]
          },
          "metadata": {},
          "execution_count": 37
        },
        {
          "output_type": "display_data",
          "data": {
            "text/plain": [
              "<Figure size 432x288 with 1 Axes>"
            ],
            "image/png": "[encoded data removed]"
          },
          "metadata": {
            "needs_background": "light"
          }
        }
      ]
    },
    {
      "cell_type": "code",
      "source": [
        "#Finding out the exact count of no of condition aborad usa cars datasets\n",
        "df.groupby('condition').size()"
      ],
      "metadata": {
        "colab": {
          "base_uri": "https://localhost:8080/"
        },
        "id": "G0wIm0hDyxgO",
        "outputId": "2eb74849-e1bd-49cd-bbdd-d2254690a4f4"
      },
      "execution_count": 38,
      "outputs": [
        {
          "output_type": "execute_result",
          "data": {
            "text/plain": [
              "condition\n",
              "1 days left         91\n",
              "1 hours left         3\n",
              "1 minutes           15\n",
              "10 days left        23\n",
              "11 days left        42\n",
              "12 days left         8\n",
              "12 hours left        1\n",
              "13 days left         1\n",
              "14 hours left      108\n",
              "15 days left         4\n",
              "15 hours left        8\n",
              "16 hours left       36\n",
              "16 minutes           1\n",
              "17 hours left       76\n",
              "18 hours left       48\n",
              "19 hours left       45\n",
              "2 days left        832\n",
              "2 hours left        26\n",
              "20 hours left       67\n",
              "21 hours left      492\n",
              "22 hours left       57\n",
              "23 hours left       16\n",
              "24 hours left        9\n",
              "27 minutes           1\n",
              "28 minutes           1\n",
              "29 minutes          18\n",
              "3 days left        137\n",
              "3 hours left         2\n",
              "30 minutes           1\n",
              "32 minutes           1\n",
              "34 minutes           7\n",
              "36 minutes           1\n",
              "4 days left         16\n",
              "4 hours left         1\n",
              "47 minutes           2\n",
              "48 minutes           2\n",
              "5 days left          6\n",
              "5 hours left        16\n",
              "53 minutes           1\n",
              "6 days left         52\n",
              "6 hours left        12\n",
              "7 days left         43\n",
              "7 hours left         7\n",
              "8 days left         82\n",
              "9 days left         58\n",
              "9 minutes            3\n",
              "Listing Expired     20\n",
              "dtype: int64"
            ]
          },
          "metadata": {},
          "execution_count": 38
        }
      ]
    },
    {
      "cell_type": "code",
      "source": [
        "df['condition'].value_counts()"
      ],
      "metadata": {
        "colab": {
          "base_uri": "https://localhost:8080/"
        },
        "id": "zXjUbl9C0SIx",
        "outputId": "3309537a-396e-41fd-b9a0-7acf8137e9ca"
      },
      "execution_count": 39,
      "outputs": [
        {
          "output_type": "execute_result",
          "data": {
            "text/plain": [
              "2 days left        832\n",
              "21 hours left      492\n",
              "3 days left        137\n",
              "14 hours left      108\n",
              "1 days left         91\n",
              "8 days left         82\n",
              "17 hours left       76\n",
              "20 hours left       67\n",
              "9 days left         58\n",
              "22 hours left       57\n",
              "6 days left         52\n",
              "18 hours left       48\n",
              "19 hours left       45\n",
              "7 days left         43\n",
              "11 days left        42\n",
              "16 hours left       36\n",
              "2 hours left        26\n",
              "10 days left        23\n",
              "Listing Expired     20\n",
              "29 minutes          18\n",
              "23 hours left       16\n",
              "4 days left         16\n",
              "5 hours left        16\n",
              "1 minutes           15\n",
              "6 hours left        12\n",
              "24 hours left        9\n",
              "12 days left         8\n",
              "15 hours left        8\n",
              "34 minutes           7\n",
              "7 hours left         7\n",
              "5 days left          6\n",
              "15 days left         4\n",
              "1 hours left         3\n",
              "9 minutes            3\n",
              "48 minutes           2\n",
              "3 hours left         2\n",
              "47 minutes           2\n",
              "13 days left         1\n",
              "16 minutes           1\n",
              "53 minutes           1\n",
              "27 minutes           1\n",
              "30 minutes           1\n",
              "32 minutes           1\n",
              "28 minutes           1\n",
              "4 hours left         1\n",
              "12 hours left        1\n",
              "36 minutes           1\n",
              "Name: condition, dtype: int64"
            ]
          },
          "metadata": {},
          "execution_count": 39
        }
      ]
    },
    {
      "cell_type": "code",
      "source": [
        "# 11th Conclusion/fact\n",
        "#This count plot will tell us how many clean vehicls and slavage insurance are there in usa car datasets\n",
        "sns.countplot(x = 'title_status',data = df)"
      ],
      "metadata": {
        "colab": {
          "base_uri": "https://localhost:8080/",
          "height": 297
        },
        "id": "ft_kKQ93boiG",
        "outputId": "2f658d23-3cb7-4e10-fab9-bb3514354d8f"
      },
      "execution_count": 40,
      "outputs": [
        {
          "output_type": "execute_result",
          "data": {
            "text/plain": [
              "<matplotlib.axes._subplots.AxesSubplot at 0x7fc6626f3c90>"
            ]
          },
          "metadata": {},
          "execution_count": 40
        },
        {
          "output_type": "display_data",
          "data": {
            "text/plain": [
              "<Figure size 432x288 with 1 Axes>"
            ],
            "image/png": "[encoded data removed]"
          },
          "metadata": {
            "needs_background": "light"
          }
        }
      ]
    },
    {
      "cell_type": "code",
      "source": [
        "#Finding out the exact count of no of clean vehicle and salvage insurance aborad usa cars datasets\n",
        "df.groupby('title_status').size()"
      ],
      "metadata": {
        "colab": {
          "base_uri": "https://localhost:8080/"
        },
        "id": "Gh3BAbwTbxia",
        "outputId": "90f991b2-cb02-4be6-c775-e16c75f0441a"
      },
      "execution_count": 41,
      "outputs": [
        {
          "output_type": "execute_result",
          "data": {
            "text/plain": [
              "title_status\n",
              "clean vehicle        2336\n",
              "salvage insurance     163\n",
              "dtype: int64"
            ]
          },
          "metadata": {},
          "execution_count": 41
        }
      ]
    },
    {
      "cell_type": "code",
      "source": [
        "df['title_status'].value_counts()"
      ],
      "metadata": {
        "colab": {
          "base_uri": "https://localhost:8080/"
        },
        "id": "lXGIbyA6djkL",
        "outputId": "204ca4f0-5bb9-423d-e641-5fe5910621ed"
      },
      "execution_count": 42,
      "outputs": [
        {
          "output_type": "execute_result",
          "data": {
            "text/plain": [
              "clean vehicle        2336\n",
              "salvage insurance     163\n",
              "Name: title_status, dtype: int64"
            ]
          },
          "metadata": {},
          "execution_count": 42
        }
      ]
    },
    {
      "cell_type": "code",
      "source": [
        "# 12th Conclusion/fact\n",
        "#This count plot will tell us how many usa and canada are there in usa car datasets\n",
        "sns.countplot(x = 'country',data = df)"
      ],
      "metadata": {
        "colab": {
          "base_uri": "https://localhost:8080/",
          "height": 296
        },
        "id": "a64kS4FvdrDu",
        "outputId": "50880ff1-b7ef-49fe-f48c-c4d3d00cf93d"
      },
      "execution_count": 43,
      "outputs": [
        {
          "output_type": "execute_result",
          "data": {
            "text/plain": [
              "<matplotlib.axes._subplots.AxesSubplot at 0x7fc65ee22690>"
            ]
          },
          "metadata": {},
          "execution_count": 43
        },
        {
          "output_type": "display_data",
          "data": {
            "text/plain": [
              "<Figure size 432x288 with 1 Axes>"
            ],
            "image/png": "[encoded data removed]"
          },
          "metadata": {
            "needs_background": "light"
          }
        }
      ]
    },
    {
      "cell_type": "code",
      "source": [
        "#Finding out the exact count of no of usa and canada aborad usa cars \n",
        "df.groupby('country').size()\n"
      ],
      "metadata": {
        "colab": {
          "base_uri": "https://localhost:8080/"
        },
        "id": "1SlwqdcDfSNI",
        "outputId": "873b66ac-d62d-4485-8331-ea0de9837495"
      },
      "execution_count": 44,
      "outputs": [
        {
          "output_type": "execute_result",
          "data": {
            "text/plain": [
              "country\n",
              " canada       7\n",
              " usa       2492\n",
              "dtype: int64"
            ]
          },
          "metadata": {},
          "execution_count": 44
        }
      ]
    },
    {
      "cell_type": "code",
      "source": [
        "df['country'].value_counts()"
      ],
      "metadata": {
        "colab": {
          "base_uri": "https://localhost:8080/"
        },
        "id": "uN8ftFnPgcIo",
        "outputId": "9b86a264-e481-4ecb-ce98-11a01503797f"
      },
      "execution_count": 49,
      "outputs": [
        {
          "output_type": "execute_result",
          "data": {
            "text/plain": [
              " usa       2492\n",
              " canada       7\n",
              "Name: country, dtype: int64"
            ]
          },
          "metadata": {},
          "execution_count": 49
        }
      ]
    },
    {
      "cell_type": "code",
      "source": [
        "df.groupby(['country','title_status']).size()\n"
      ],
      "metadata": {
        "colab": {
          "base_uri": "https://localhost:8080/"
        },
        "id": "ebW4RG-YnWGs",
        "outputId": "e9b3006d-f5bd-4cbf-81d9-7760b0d6e1d4"
      },
      "execution_count": 48,
      "outputs": [
        {
          "output_type": "execute_result",
          "data": {
            "text/plain": [
              "country  title_status     \n",
              " canada  clean vehicle           7\n",
              " usa     clean vehicle        2329\n",
              "         salvage insurance     163\n",
              "dtype: int64"
            ]
          },
          "metadata": {},
          "execution_count": 48
        }
      ]
    },
    {
      "cell_type": "code",
      "source": [
        "import numpy as np\n",
        "#np.sum will tell the the sum of number of elements in the specific range\n",
        "lowprice = np.sum((df['price']>=0)&(df['price']<30000))\n",
        "mediumprice = np.sum((df['price']>=30000)&(df['price']<50000))\n",
        "highprice = np.sum((df['price']>=50000)&(df['price']<90000))\n",
        "print(lowprice)\n",
        "print(mediumprice)\n",
        "print(highprice)"
      ],
      "metadata": {
        "colab": {
          "base_uri": "https://localhost:8080/"
        },
        "id": "QQ5reUrlhTj0",
        "outputId": "824c23c0-9ce7-4acd-8713-5484179004ac"
      },
      "execution_count": 47,
      "outputs": [
        {
          "output_type": "stream",
          "name": "stdout",
          "text": [
            "2121\n",
            "326\n",
            "52\n"
          ]
        }
      ]
    },
    {
      "cell_type": "code",
      "source": [
        "#  The price column has 2499 values/rows \n",
        "2121+326+52"
      ],
      "metadata": {
        "colab": {
          "base_uri": "https://localhost:8080/"
        },
        "id": "_5j1ndpE_4ab",
        "outputId": "68440bd8-a6f9-433e-ee17-86b3baa667be"
      },
      "execution_count": 51,
      "outputs": [
        {
          "output_type": "execute_result",
          "data": {
            "text/plain": [
              "2499"
            ]
          },
          "metadata": {},
          "execution_count": 51
        }
      ]
    },
    {
      "cell_type": "code",
      "source": [
        "np.min(df['price'])"
      ],
      "metadata": {
        "colab": {
          "base_uri": "https://localhost:8080/"
        },
        "id": "sQ6_tzvGiBYy",
        "outputId": "9e341b2f-0e1f-4302-f233-4a5795cf91e6"
      },
      "execution_count": 52,
      "outputs": [
        {
          "output_type": "execute_result",
          "data": {
            "text/plain": [
              "0"
            ]
          },
          "metadata": {},
          "execution_count": 52
        }
      ]
    },
    {
      "cell_type": "code",
      "source": [
        "np.max(df['price'])"
      ],
      "metadata": {
        "colab": {
          "base_uri": "https://localhost:8080/"
        },
        "id": "A2QytZh2oVbO",
        "outputId": "83c952d4-2b07-4f05-9400-a93f11a5d492"
      },
      "execution_count": 53,
      "outputs": [
        {
          "output_type": "execute_result",
          "data": {
            "text/plain": [
              "84900"
            ]
          },
          "metadata": {},
          "execution_count": 53
        }
      ]
    },
    {
      "cell_type": "code",
      "source": [
        "title_status_m = np.sum((df['country']=='usa')&df['title_status']==1)\n",
        "title_status_m"
      ],
      "metadata": {
        "colab": {
          "base_uri": "https://localhost:8080/"
        },
        "id": "_ZebDqu4p27S",
        "outputId": "e423ec72-f661-449a-e58b-eb645e810a8a"
      },
      "execution_count": 54,
      "outputs": [
        {
          "output_type": "execute_result",
          "data": {
            "text/plain": [
              "0"
            ]
          },
          "metadata": {},
          "execution_count": 54
        }
      ]
    },
    {
      "cell_type": "code",
      "source": [
        "#distribution Plot\n",
        "sns.distplot(df['price'])"
      ],
      "metadata": {
        "colab": {
          "base_uri": "https://localhost:8080/",
          "height": 362
        },
        "id": "2UgyY16fqhAo",
        "outputId": "5e2d92b9-fa82-42d3-cfe0-ab43c5d37ca1"
      },
      "execution_count": 55,
      "outputs": [
        {
          "output_type": "stream",
          "name": "stderr",
          "text": [
            "/usr/local/lib/python3.7/dist-packages/seaborn/distributions.py:2619: FutureWarning: `distplot` is a deprecated function and will be removed in a future version. Please adapt your code to use either `displot` (a figure-level function with similar flexibility) or `histplot` (an axes-level function for histograms).\n",
            "  warnings.warn(msg, FutureWarning)\n"
          ]
        },
        {
          "output_type": "execute_result",
          "data": {
            "text/plain": [
              "<matplotlib.axes._subplots.AxesSubplot at 0x7fc66a530750>"
            ]
          },
          "metadata": {},
          "execution_count": 55
        },
        {
          "output_type": "display_data",
          "data": {
            "text/plain": [
              "<Figure size 432x288 with 1 Axes>"
            ],
            "image/png": "[encoded data removed]"
          },
          "metadata": {
            "needs_background": "light"
          }
        }
      ]
    },
    {
      "cell_type": "code",
      "source": [],
      "metadata": {
        "id": "gBUiwI93qleA"
      },
      "execution_count": 55,
      "outputs": []
    }
  ]
}